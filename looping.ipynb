{
 "cells": [
  {
   "cell_type": "code",
   "execution_count": 5,
   "id": "c4784f22",
   "metadata": {},
   "outputs": [
    {
     "name": "stdout",
     "output_type": "stream",
     "text": [
      "1 2 3 4 5 6 7 8 9 10 "
     ]
    }
   ],
   "source": [
    "#mencetak angka 1-10\n",
    "\n",
    "for angka in range (1,11):\n",
    "    print (angka, end =\" \")"
   ]
  },
  {
   "cell_type": "code",
   "execution_count": 19,
   "id": "f5ff4a8b",
   "metadata": {},
   "outputs": [
    {
     "name": "stdout",
     "output_type": "stream",
     "text": [
      "10 20 30 40 50 60 70 80 90 100 "
     ]
    }
   ],
   "source": [
    "#mencetak angka puluhan\n",
    "\n",
    "for angka in range (1,11):\n",
    "    print (angka * 10, end=\" \")"
   ]
  },
  {
   "cell_type": "code",
   "execution_count": 27,
   "id": "64a4e0c8",
   "metadata": {},
   "outputs": [
    {
     "name": "stdout",
     "output_type": "stream",
     "text": [
      "10 9 8 7 6 5 4 3 2 1 "
     ]
    }
   ],
   "source": [
    "#mencetak angka mundur\n",
    "\n",
    "for angka in range (1,11):\n",
    "    print (11 - angka, end=\" \")"
   ]
  },
  {
   "cell_type": "code",
   "execution_count": 31,
   "id": "0cbca29d",
   "metadata": {},
   "outputs": [
    {
     "name": "stdout",
     "output_type": "stream",
     "text": [
      "10 9 8 7 6 5 4 3 2 1 "
     ]
    }
   ],
   "source": [
    "#mencetak angka mundur part 2\n",
    "\n",
    "for angka in range (10,0,-1):\n",
    "    print (angka, end= \" \")"
   ]
  },
  {
   "cell_type": "code",
   "execution_count": 46,
   "id": "c72c4edb",
   "metadata": {},
   "outputs": [
    {
     "name": "stdout",
     "output_type": "stream",
     "text": [
      "1, -2, 3, -4, 5, -6, 7, -8, 9, -10, "
     ]
    }
   ],
   "source": [
    "#mencetak angka 1 -2 3 -4 5 -6 --- 10\n",
    "\n",
    "sign = -1\n",
    "for angka in range (1,11):\n",
    "    sign = sign * -1\n",
    "    print (angka*sign, end= \", \")"
   ]
  },
  {
   "cell_type": "code",
   "execution_count": 68,
   "id": "6a44b667",
   "metadata": {},
   "outputs": [
    {
     "name": "stdout",
     "output_type": "stream",
     "text": [
      "isikan angka : 5\n",
      "5! adalah 3125\n"
     ]
    }
   ],
   "source": [
    "# mencari bilangan faktorial\n",
    "# input = 4, output = 4 * 3 * 2 * 1 = 24\n",
    "\n",
    "bil = int(input('isikan angka = '))\n",
    "hasil = 1\n",
    "\n",
    "for angka in range(1, bil+1):\n",
    "    hasil = hasil * bil \n",
    "    print (f\"{bil}! adalah {hasil}\")"
   ]
  },
  {
   "cell_type": "code",
   "execution_count": 72,
   "id": "c8e40401",
   "metadata": {},
   "outputs": [
    {
     "name": "stdout",
     "output_type": "stream",
     "text": [
      "isikan angka : 5\n",
      "5! adalah 120\n",
      "5 * 4 * 3 * 2 * 1 = 120\n"
     ]
    }
   ],
   "source": [
    "# mencari bilangan faktorial dan dijabarkan langkahnya\n",
    "\n",
    "bil = int(input('isikan angka = '))\n",
    "\n",
    "hasil = 1\n",
    "label = \"\"\n",
    "for i in range (1, bil+1):\n",
    "    hasil = hasil * i\n",
    "    if i < bil :\n",
    "        label = label + str((bil+1) - i) + \" * \"\n",
    "    else:\n",
    "        label = label + str((bil+1) - i)\n",
    "\n",
    "print(f\"{bil}! adalah {hasil}\")\n",
    "print(f\"{label} = {hasil}\")"
   ]
  },
  {
   "cell_type": "code",
   "execution_count": 76,
   "id": "1736e290",
   "metadata": {},
   "outputs": [
    {
     "name": "stdout",
     "output_type": "stream",
     "text": [
      "isikan bilangan = 5\n",
      "isikan pangkat  = 4\n",
      "5 pangkat 4 adalah 625\n"
     ]
    }
   ],
   "source": [
    "# mencari pangkat\n",
    "\n",
    "bil     = int(input('isikan bilangan = '))\n",
    "pangkat = int(input('isikan pangkat  = '))\n",
    "\n",
    "hasil = 1\n",
    "\n",
    "for i in range (1, pangkat+1):\n",
    "    hasil *= bil\n",
    "\n",
    "print (f\"{bil} pangkat {pangkat} adalah {hasil}\")"
   ]
  },
  {
   "cell_type": "code",
   "execution_count": 83,
   "id": "f8de6a85",
   "metadata": {},
   "outputs": [
    {
     "name": "stdout",
     "output_type": "stream",
     "text": [
      "isikan bilangan = 5\n",
      "5 adalah bilangan prima\n"
     ]
    }
   ],
   "source": [
    "# mengecek bilangan prima atau bukan\n",
    "# bilangan prima adalah bilangan yg habis dibagi 1 dan bilangan itu sendiri => 2 faktor\n",
    "\n",
    "bil     = int(input('isikan bilangan = '))\n",
    "jumlah  = 0\n",
    "for i in range (1, bil+1):\n",
    "    sisa = bil % i\n",
    "    if sisa == 0:\n",
    "        jumlah = jumlah + 1\n",
    "if jumlah== 2:\n",
    "    print(f\"{bil} adalah bilangan prima\")\n",
    "else :\n",
    "    print(f\"{bil} bukan bilangan prima\")\n",
    "        "
   ]
  },
  {
   "cell_type": "code",
   "execution_count": 89,
   "id": "14abf4fb",
   "metadata": {},
   "outputs": [
    {
     "name": "stdout",
     "output_type": "stream",
     "text": [
      "1 2 3 4 5 \n",
      "1 2 3 4 5 6 7 8 9 10 "
     ]
    }
   ],
   "source": [
    "# break & continue\n",
    "\n",
    "for i in range(1,11):\n",
    "    print (i, end = \" \")\n",
    "    if i == 5:\n",
    "        break\n",
    "\n",
    "print ()\n",
    "\n",
    "for j in range (1,11):\n",
    "    print (j, end = \" \")\n",
    "    if j == 5:\n",
    "        continue\n",
    "\n",
    "\n",
    "\n"
   ]
  },
  {
   "cell_type": "code",
   "execution_count": 99,
   "id": "18c5678e",
   "metadata": {},
   "outputs": [
    {
     "name": "stdout",
     "output_type": "stream",
     "text": [
      "masukkan kalimat = hai sayangku apa kabarmu sekarang?\n",
      "Jumlah huruf a = 9\n",
      "Jumlah huruf i = 1\n",
      "Jumlah huruf u = 2\n",
      "Jumlah huruf e = 1\n",
      "Jumlah huruf o = 0\n"
     ]
    }
   ],
   "source": [
    "# looping untuk string, \n",
    "# menghitung huruf vokal a=?, i=?, u=?, e=?, o=?\n",
    "\n",
    "kalimat = input (\"masukkan kalimat = \")\n",
    "\n",
    "vokal_a =0\n",
    "vokal_i =0\n",
    "vokal_u =0\n",
    "vokal_e =0\n",
    "vokal_o =0\n",
    "\n",
    "for i in kalimat :\n",
    "    if i==\"a\":\n",
    "         vokal_a += 1\n",
    "    elif i==\"i\":\n",
    "         vokal_i += 1\n",
    "    elif i==\"u\":\n",
    "         vokal_u += 1\n",
    "    elif i==\"e\":\n",
    "         vokal_e += 1\n",
    "    elif i==\"o\":\n",
    "         vokal_o += 1\n",
    "            \n",
    "print (f\"Jumlah huruf a = {vokal_a}\")\n",
    "print (f\"Jumlah huruf i = {vokal_i}\")\n",
    "print (f\"Jumlah huruf u = {vokal_u}\")\n",
    "print (f\"Jumlah huruf e = {vokal_e}\")\n",
    "print (f\"Jumlah huruf o = {vokal_o}\")"
   ]
  },
  {
   "cell_type": "code",
   "execution_count": 107,
   "id": "9dff94d2",
   "metadata": {},
   "outputs": [
    {
     "name": "stdout",
     "output_type": "stream",
     "text": [
      "isikan kalimat = y\n",
      "PALINDROME\n",
      "apakah ingin mengulang ? (Y/T)y\n"
     ]
    }
   ],
   "source": [
    "# kalimat palindrome atau bukan ?\n",
    "# kalimat palindrome adalah kalimat yang sama jika dibaca dari kiri == kanan atau sebaliknya\n",
    "# katak = katak\n",
    "# kasur rusak\n",
    "\n",
    "kalimat = input (\"isikan kalimat = \")\n",
    "panjang = len(kalimat)\n",
    "keterangan = \"PALINDROME\"\n",
    "\n",
    "for i in range (0,panjang):\n",
    "    kika = kalimat [i]\n",
    "    kaki = kalimat [panjang - i-1]\n",
    "    if kika != kaki:\n",
    "        keterangan = \"BUKAN PALINDROME\"\n",
    "        break\n",
    "print (f\"{keterangan}\")\n",
    "ulang = input(\"apakah ingin mengulang ? (Y/T)\")"
   ]
  }
 ],
 "metadata": {
  "kernelspec": {
   "display_name": "Python 3 (ipykernel)",
   "language": "python",
   "name": "python3"
  },
  "language_info": {
   "codemirror_mode": {
    "name": "ipython",
    "version": 3
   },
   "file_extension": ".py",
   "mimetype": "text/x-python",
   "name": "python",
   "nbconvert_exporter": "python",
   "pygments_lexer": "ipython3",
   "version": "3.9.12"
  }
 },
 "nbformat": 4,
 "nbformat_minor": 5
}
